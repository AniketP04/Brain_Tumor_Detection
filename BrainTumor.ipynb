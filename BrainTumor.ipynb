{
 "cells": [
  {
   "cell_type": "code",
   "execution_count": 0,
   "metadata": {
    "colab": {
     "base_uri": "https://localhost:8080/",
     "height": 35
    },
    "colab_type": "code",
    "id": "btQlZVpelmQt",
    "outputId": "4c1c47be-8d95-42e3-9f65-c0bdb7745510"
   },
   "outputs": [
    {
     "name": "stderr",
     "output_type": "stream",
     "text": [
      "Using TensorFlow backend.\n"
     ]
    }
   ],
   "source": [
    "import keras\n",
    "from matplotlib import pyplot as plt\n",
    "import numpy as np\n",
    "import gzip\n",
    "%matplotlib inline\n",
    "from keras.models import Model\n",
    "from keras.optimizers import RMSprop\n",
    "from keras.layers import Input,Dense,Flatten,Dropout,merge,Reshape,Conv2D,MaxPooling2D,UpSampling2D,Conv2DTranspose\n",
    "from keras.layers.normalization import BatchNormalization\n",
    "from keras.models import Model,Sequential\n",
    "from keras.callbacks import ModelCheckpoint\n",
    "from keras.optimizers import Adadelta, RMSprop,SGD,Adam\n",
    "from keras import regularizers\n",
    "from keras import backend as K\n",
    "from keras.utils import to_categorical\n",
    "from keras.preprocessing.image import ImageDataGenerator\n",
    "from keras.callbacks import ReduceLROnPlateau, EarlyStopping, TensorBoard, ModelCheckpoint\n",
    "from sklearn.metrics import accuracy_score"
   ]
  },
  {
   "cell_type": "code",
   "execution_count": 0,
   "metadata": {
    "colab": {
     "base_uri": "https://localhost:8080/",
     "height": 124
    },
    "colab_type": "code",
    "id": "M_0SPbLVmoOT",
    "outputId": "143ddb8f-e7e3-4c09-b260-3b15da61a1bb"
   },
   "outputs": [
    {
     "name": "stdout",
     "output_type": "stream",
     "text": [
      "Go to this URL in a browser: https://accounts.google.com/o/oauth2/auth?client_id=947318989803-6bn6qk8qdgf4n4g3pfee6491hc0brc4i.apps.googleusercontent.com&redirect_uri=urn%3Aietf%3Awg%3Aoauth%3A2.0%3Aoob&scope=email%20https%3A%2F%2Fwww.googleapis.com%2Fauth%2Fdocs.test%20https%3A%2F%2Fwww.googleapis.com%2Fauth%2Fdrive%20https%3A%2F%2Fwww.googleapis.com%2Fauth%2Fdrive.photos.readonly%20https%3A%2F%2Fwww.googleapis.com%2Fauth%2Fpeopleapi.readonly&response_type=code\n",
      "\n",
      "Enter your authorization code:\n",
      "··········\n",
      "Mounted at /content/gdrive\n"
     ]
    }
   ],
   "source": [
    "from google.colab import drive\n",
    "drive.mount('/content/gdrive')\n"
   ]
  },
  {
   "cell_type": "code",
   "execution_count": 0,
   "metadata": {
    "colab": {
     "base_uri": "https://localhost:8080/",
     "height": 124
    },
    "colab_type": "code",
    "id": "q-BUOIdo7OB1",
    "outputId": "73e4ecd4-e559-47d2-f94a-78d0fc27bf1f"
   },
   "outputs": [
    {
     "name": "stderr",
     "output_type": "stream",
     "text": [
      "WARNING: Logging before flag parsing goes to stderr.\n",
      "W0622 15:27:22.301048 139801323886464 deprecation_wrapper.py:119] From /usr/local/lib/python3.6/dist-packages/keras/backend/tensorflow_backend.py:74: The name tf.get_default_graph is deprecated. Please use tf.compat.v1.get_default_graph instead.\n",
      "\n",
      "W0622 15:27:22.378778 139801323886464 deprecation_wrapper.py:119] From /usr/local/lib/python3.6/dist-packages/keras/backend/tensorflow_backend.py:517: The name tf.placeholder is deprecated. Please use tf.compat.v1.placeholder instead.\n",
      "\n"
     ]
    }
   ],
   "source": [
    "#model parameters\n",
    "batch_size = 64\n",
    "epochs = 2000\n",
    "inChannel = 1\n",
    "iml, imh = 128, 128\n",
    "input_img = Input(shape = (iml, imh, inChannel))\n",
    "num_classes = 3\n",
    "batch = 128"
   ]
  },
  {
   "cell_type": "code",
   "execution_count": 0,
   "metadata": {
    "colab": {},
    "colab_type": "code",
    "id": "-J34vuFl8qm6"
   },
   "outputs": [],
   "source": [
    "import os\n",
    "from PIL import Image\n",
    "for i in range(3):\n",
    "  path = 'gdrive/My Drive/MRIBrain/train/' + str(i)\n",
    "  files = os.listdir(path)\n",
    "  i = 1\n",
    "\n",
    "  for file in files:\n",
    "      im = Image.open(os.path.join(path, file))\n",
    "  #     img = im.crop((0, 0, 450, 375))\n",
    "      img = im.crop((55, 55, 400, 375))\n",
    "      img.save(os.path.join(path, file))"
   ]
  },
  {
   "cell_type": "code",
   "execution_count": 0,
   "metadata": {
    "colab": {
     "base_uri": "https://localhost:8080/",
     "height": 35
    },
    "colab_type": "code",
    "id": "bxnvtJoJmpdA",
    "outputId": "17dac577-4196-4733-94ad-93e611dc3983"
   },
   "outputs": [
    {
     "name": "stdout",
     "output_type": "stream",
     "text": [
      "Found 2706 images belonging to 3 classes.\n"
     ]
    }
   ],
   "source": [
    "def AHE(img):\n",
    "    img_adapteq = exposure.equalize_adapthist(img, clip_limit=0.03)\n",
    "    return img_adapteq\n",
    "train_datagen = ImageDataGenerator(\n",
    "        rotation_range=40,\n",
    "        width_shift_range=0.2,\n",
    "        height_shift_range=0.2,\n",
    "        rescale=1./255,\n",
    "        shear_range=0.2,\n",
    "        zoom_range=0.2,\n",
    "        horizontal_flip=True,\n",
    "        fill_mode='nearest',preprocessing_function=AHE)\n",
    "\n",
    "train_generator=train_datagen.flow_from_directory('gdrive/My Drive/MRIBrain/train',\n",
    "                                                 target_size=(iml,imh),\n",
    "                                                 color_mode='grayscale',\n",
    "                                                 batch_size=batch,\n",
    "                                                 class_mode='input',\n",
    "                                                 shuffle=True,)"
   ]
  },
  {
   "cell_type": "code",
   "execution_count": 0,
   "metadata": {
    "colab": {
     "base_uri": "https://localhost:8080/",
     "height": 35
    },
    "colab_type": "code",
    "id": "gmvXRWz7mzwr",
    "outputId": "3530e6bc-c0e6-48a3-ab3c-4c99720890c0"
   },
   "outputs": [
    {
     "name": "stdout",
     "output_type": "stream",
     "text": [
      "Found 300 images belonging to 3 classes.\n"
     ]
    }
   ],
   "source": [
    "val_datagen = ImageDataGenerator(rescale=1. /255)\n",
    "val_generator=train_datagen.flow_from_directory('gdrive/My Drive/MRIBrain/val',\n",
    "                                                 target_size=(iml,imh),\n",
    "                                                 color_mode='grayscale',\n",
    "                                                 batch_size=batch,\n",
    "                                                 class_mode='input',\n",
    "                                                 shuffle=True)"
   ]
  },
  {
   "cell_type": "code",
   "execution_count": 0,
   "metadata": {
    "colab": {},
    "colab_type": "code",
    "id": "35KGhhm6yUFp"
   },
   "outputs": [],
   "source": [
    "def encoder(input_img):\n",
    "    #encoder\n",
    "\n",
    "    conv1 = Conv2D(32, (3, 3), activation='relu', padding='same')(input_img) #28 x 28 x 32\n",
    "    conv1 = BatchNormalization()(conv1)\n",
    "    conv1 = Conv2D(32, (3, 3), activation='relu', padding='same')(conv1)\n",
    "    conv1 = BatchNormalization()(conv1)\n",
    "    pool1 = MaxPooling2D(pool_size=(2, 2))(conv1) #14 x 14 x 32\n",
    "    conv2 = Conv2D(64, (3, 3), activation='relu', padding='same')(pool1) #14 x 14 x 64\n",
    "    conv2 = BatchNormalization()(conv2)\n",
    "    conv2 = Conv2D(64, (3, 3), activation='relu', padding='same')(conv2)\n",
    "    conv2 = BatchNormalization()(conv2)\n",
    "    pool2 = MaxPooling2D(pool_size=(2, 2))(conv2) #7 x 7 x 64\n",
    "    conv3 = Conv2D(128, (3, 3), activation='relu', padding='same')(pool2) #7 x 7 x 128 (small and thick)\n",
    "    conv3 = BatchNormalization()(conv3)\n",
    "    conv3 = Conv2D(128, (3, 3), activation='relu', padding='same')(conv3)\n",
    "    conv3 = BatchNormalization()(conv3)\n",
    "    conv4 = Conv2D(256, (3, 3), activation='relu', padding='same')(conv3) #7 x 7 x 256 (small and thick)\n",
    "    conv4 = BatchNormalization()(conv4)\n",
    "    conv4 = Conv2D(256, (3, 3), activation='relu', padding='same')(conv4)\n",
    "    conv4 = BatchNormalization()(conv4)\n",
    "    return conv4\n",
    "\n"
   ]
  },
  {
   "cell_type": "code",
   "execution_count": 0,
   "metadata": {
    "colab": {},
    "colab_type": "code",
    "id": "3JfcPIZvybD5"
   },
   "outputs": [],
   "source": [
    "def decoder(conv4):    \n",
    "    #decoder\n",
    "    conv5 = Conv2D(128, (3, 3), activation='relu', padding='same')(conv4) #7 x 7 x 128\n",
    "    conv5 = BatchNormalization()(conv5)\n",
    "    conv5 = Conv2D(128, (3, 3), activation='relu', padding='same')(conv5)\n",
    "    conv5 = BatchNormalization()(conv5)\n",
    "    conv6 = Conv2D(64, (3, 3), activation='relu', padding='same')(conv5) #7 x 7 x 64\n",
    "    conv6 = BatchNormalization()(conv6)\n",
    "    conv6 = Conv2D(64, (3, 3), activation='relu', padding='same')(conv6)\n",
    "    conv6 = BatchNormalization()(conv6)\n",
    "    up1 = UpSampling2D((2,2))(conv6) #14 x 14 x 64\n",
    "    conv7 = Conv2D(32, (3, 3), activation='relu', padding='same')(up1) # 14 x 14 x 32\n",
    "    conv7 = BatchNormalization()(conv7)\n",
    "    conv7 = Conv2D(32, (3, 3), activation='relu', padding='same')(conv7)\n",
    "    conv7 = BatchNormalization()(conv7)\n",
    "    up2 = UpSampling2D((2,2))(conv7) # 28 x 28 x 32\n",
    "    decoded = Conv2D(1, (3, 3), activation='sigmoid', padding='same')(up2) # 28 x 28 x 1\n",
    "    return decoded"
   ]
  },
  {
   "cell_type": "code",
   "execution_count": 0,
   "metadata": {
    "colab": {
     "base_uri": "https://localhost:8080/",
     "height": 106
    },
    "colab_type": "code",
    "id": "CTPNsKmCyfSt",
    "outputId": "73c9b9f7-4445-47f4-a287-a6a2f2de27c6"
   },
   "outputs": [
    {
     "name": "stderr",
     "output_type": "stream",
     "text": [
      "W0614 12:47:04.726175 139755431475072 deprecation_wrapper.py:119] From /usr/local/lib/python3.6/dist-packages/keras/backend/tensorflow_backend.py:2018: The name tf.image.resize_nearest_neighbor is deprecated. Please use tf.compat.v1.image.resize_nearest_neighbor instead.\n",
      "\n",
      "W0614 12:47:04.959141 139755431475072 deprecation_wrapper.py:119] From /usr/local/lib/python3.6/dist-packages/keras/optimizers.py:790: The name tf.train.Optimizer is deprecated. Please use tf.compat.v1.train.Optimizer instead.\n",
      "\n"
     ]
    }
   ],
   "source": [
    "autoencoder = Model(input_img, decoder(encoder(input_img)))\n",
    "autoencoder.compile(loss='mean_squared_error', optimizer = RMSprop())"
   ]
  },
  {
   "cell_type": "code",
   "execution_count": 0,
   "metadata": {
    "colab": {
     "base_uri": "https://localhost:8080/",
     "height": 1303
    },
    "colab_type": "code",
    "id": "dT4-i9GXzYs4",
    "outputId": "ebcc62db-3dc9-4268-dd8d-95d7839d20d9"
   },
   "outputs": [
    {
     "name": "stdout",
     "output_type": "stream",
     "text": [
      "_________________________________________________________________\n",
      "Layer (type)                 Output Shape              Param #   \n",
      "=================================================================\n",
      "input_1 (InputLayer)         (None, 128, 128, 1)       0         \n",
      "_________________________________________________________________\n",
      "conv2d_9 (Conv2D)            (None, 128, 128, 32)      320       \n",
      "_________________________________________________________________\n",
      "batch_normalization_9 (Batch (None, 128, 128, 32)      128       \n",
      "_________________________________________________________________\n",
      "conv2d_10 (Conv2D)           (None, 128, 128, 32)      9248      \n",
      "_________________________________________________________________\n",
      "batch_normalization_10 (Batc (None, 128, 128, 32)      128       \n",
      "_________________________________________________________________\n",
      "max_pooling2d_3 (MaxPooling2 (None, 64, 64, 32)        0         \n",
      "_________________________________________________________________\n",
      "conv2d_11 (Conv2D)           (None, 64, 64, 64)        18496     \n",
      "_________________________________________________________________\n",
      "batch_normalization_11 (Batc (None, 64, 64, 64)        256       \n",
      "_________________________________________________________________\n",
      "conv2d_12 (Conv2D)           (None, 64, 64, 64)        36928     \n",
      "_________________________________________________________________\n",
      "batch_normalization_12 (Batc (None, 64, 64, 64)        256       \n",
      "_________________________________________________________________\n",
      "max_pooling2d_4 (MaxPooling2 (None, 32, 32, 64)        0         \n",
      "_________________________________________________________________\n",
      "conv2d_13 (Conv2D)           (None, 32, 32, 128)       73856     \n",
      "_________________________________________________________________\n",
      "batch_normalization_13 (Batc (None, 32, 32, 128)       512       \n",
      "_________________________________________________________________\n",
      "conv2d_14 (Conv2D)           (None, 32, 32, 128)       147584    \n",
      "_________________________________________________________________\n",
      "batch_normalization_14 (Batc (None, 32, 32, 128)       512       \n",
      "_________________________________________________________________\n",
      "conv2d_15 (Conv2D)           (None, 32, 32, 256)       295168    \n",
      "_________________________________________________________________\n",
      "batch_normalization_15 (Batc (None, 32, 32, 256)       1024      \n",
      "_________________________________________________________________\n",
      "conv2d_16 (Conv2D)           (None, 32, 32, 256)       590080    \n",
      "_________________________________________________________________\n",
      "batch_normalization_16 (Batc (None, 32, 32, 256)       1024      \n",
      "_________________________________________________________________\n",
      "conv2d_17 (Conv2D)           (None, 32, 32, 128)       295040    \n",
      "_________________________________________________________________\n",
      "batch_normalization_17 (Batc (None, 32, 32, 128)       512       \n",
      "_________________________________________________________________\n",
      "conv2d_18 (Conv2D)           (None, 32, 32, 128)       147584    \n",
      "_________________________________________________________________\n",
      "batch_normalization_18 (Batc (None, 32, 32, 128)       512       \n",
      "_________________________________________________________________\n",
      "conv2d_19 (Conv2D)           (None, 32, 32, 64)        73792     \n",
      "_________________________________________________________________\n",
      "batch_normalization_19 (Batc (None, 32, 32, 64)        256       \n",
      "_________________________________________________________________\n",
      "conv2d_20 (Conv2D)           (None, 32, 32, 64)        36928     \n",
      "_________________________________________________________________\n",
      "batch_normalization_20 (Batc (None, 32, 32, 64)        256       \n",
      "_________________________________________________________________\n",
      "up_sampling2d_1 (UpSampling2 (None, 64, 64, 64)        0         \n",
      "_________________________________________________________________\n",
      "conv2d_21 (Conv2D)           (None, 64, 64, 32)        18464     \n",
      "_________________________________________________________________\n",
      "batch_normalization_21 (Batc (None, 64, 64, 32)        128       \n",
      "_________________________________________________________________\n",
      "conv2d_22 (Conv2D)           (None, 64, 64, 32)        9248      \n",
      "_________________________________________________________________\n",
      "batch_normalization_22 (Batc (None, 64, 64, 32)        128       \n",
      "_________________________________________________________________\n",
      "up_sampling2d_2 (UpSampling2 (None, 128, 128, 32)      0         \n",
      "_________________________________________________________________\n",
      "conv2d_23 (Conv2D)           (None, 128, 128, 1)       289       \n",
      "=================================================================\n",
      "Total params: 1,758,657\n",
      "Trainable params: 1,755,841\n",
      "Non-trainable params: 2,816\n",
      "_________________________________________________________________\n"
     ]
    }
   ],
   "source": [
    "autoencoder.summary()"
   ]
  },
  {
   "cell_type": "code",
   "execution_count": 0,
   "metadata": {
    "colab": {},
    "colab_type": "code",
    "id": "qExcjG4rArV2"
   },
   "outputs": [],
   "source": [
    "lr_reducer = ReduceLROnPlateau(monitor='val_loss', factor=0.9, patience=8)\n",
    "early_stopper = EarlyStopping(monitor='val_loss', min_delta=0, patience=8, mode='auto')\n",
    "checkpointer = ModelCheckpoint('gdrive/My Drive/101/{epoch:02d}-{val_loss:.4f}.hdf5', mode='min', monitor='val_loss', verbose=1, save_best_only=True)"
   ]
  },
  {
   "cell_type": "code",
   "execution_count": 0,
   "metadata": {
    "colab": {},
    "colab_type": "code",
    "id": "Ufm9iLWRAym4"
   },
   "outputs": [],
   "source": [
    "\n",
    "batch_size = batch\n",
    "learning_rate = 0.001"
   ]
  },
  {
   "cell_type": "code",
   "execution_count": 0,
   "metadata": {
    "colab": {},
    "colab_type": "code",
    "id": "J466Wqy1AzuJ"
   },
   "outputs": [],
   "source": [
    "autoencoder.load_weights('gdrive/My Drive/101/06-0.0806.hdf5')"
   ]
  },
  {
   "cell_type": "code",
   "execution_count": 0,
   "metadata": {
    "colab": {
     "base_uri": "https://localhost:8080/",
     "height": 531
    },
    "colab_type": "code",
    "id": "coZB3Pzrzn00",
    "outputId": "2a65b1d0-d6f7-42d1-decd-39ecc9ac946a"
   },
   "outputs": [
    {
     "name": "stdout",
     "output_type": "stream",
     "text": [
      "Epoch 1/2000\n",
      "21/21 [==============================] - 1379s 66s/step - loss: 0.0272 - val_loss: 0.3250\n",
      "\n",
      "Epoch 00001: val_loss did not improve from 0.16971\n",
      "Epoch 2/2000\n",
      "21/21 [==============================] - 1385s 66s/step - loss: 0.0289 - val_loss: 0.5595\n",
      "\n",
      "Epoch 00002: val_loss did not improve from 0.16971\n",
      "Epoch 3/2000\n",
      "21/21 [==============================] - 1378s 66s/step - loss: 0.0142 - val_loss: 0.3461\n",
      "\n",
      "Epoch 00003: val_loss did not improve from 0.16971\n",
      "Epoch 4/2000\n",
      "21/21 [==============================] - 1400s 67s/step - loss: 0.0193 - val_loss: 0.6452\n",
      "\n",
      "Epoch 00004: val_loss did not improve from 0.16971\n",
      "Epoch 5/2000\n",
      "21/21 [==============================] - 1438s 68s/step - loss: 0.0188 - val_loss: 0.2304\n",
      "\n",
      "Epoch 00005: val_loss did not improve from 0.16971\n",
      "Epoch 6/2000\n",
      "21/21 [==============================] - 1474s 70s/step - loss: 0.0092 - val_loss: 0.0806\n",
      "\n",
      "Epoch 00006: val_loss improved from 0.16971 to 0.08062, saving model to gdrive/My Drive/101/06-0.0806.hdf5\n",
      "Epoch 7/2000\n",
      "21/21 [==============================] - 1445s 69s/step - loss: 0.0152 - val_loss: 0.4629\n",
      "\n",
      "Epoch 00007: val_loss did not improve from 0.08062\n",
      "Epoch 8/2000\n",
      " 1/21 [>.............................] - ETA: 22:53 - loss: 0.0086"
     ]
    }
   ],
   "source": [
    "# checkpoint = ModelCheckpoint('gdrive/My Drive/101/{epoch:02d}-{val_acc:.2f}.hdf5', monitor='val_loss', verbose=1, save_best_only=True, mode='min')\n",
    "# callbacks_list = [checkpoint]\n",
    "step_size_train=train_generator.n//train_generator.batch_size\n",
    "step_size_val=val_generator.n//val_generator.batch_size\n",
    "model_history = []\n",
    "model_history.append(autoencoder.fit_generator(generator=train_generator,\n",
    "                    validation_data=val_generator,\n",
    "                   steps_per_epoch=step_size_train,\n",
    "                                               \n",
    "                    validation_steps = step_size_val,\n",
    "                                               \n",
    "                 epochs=epochs,shuffle = True,\n",
    "          callbacks=[lr_reducer, checkpointer, early_stopper],initial_epoch =0))"
   ]
  },
  {
   "cell_type": "code",
   "execution_count": 0,
   "metadata": {
    "colab": {},
    "colab_type": "code",
    "id": "QSEYdoCaHBgs"
   },
   "outputs": [],
   "source": [
    "import matplotlib.pyplot as plt\n",
    "plt.title('Accuracies vs Epochs')\n",
    "plt.plot(model_history[0].history['acc'], label='Training_Accuracy')\n",
    "plt.plot(model_history[0].history['val_acc'], label='validation Accuacy')\n",
    "plt.plot(model_history[0].history['loss'], label='Training_loss')\n",
    "plt.plot(model_history[0].history['val_loss'], label='Val_loss')\n",
    "plt.legend()\n",
    "plt.show()"
   ]
  },
  {
   "cell_type": "markdown",
   "metadata": {
    "colab_type": "text",
    "id": "TUnUG-wCBWwk"
   },
   "source": [
    "Classifier"
   ]
  },
  {
   "cell_type": "markdown",
   "metadata": {
    "colab_type": "text",
    "id": "NLmkYZbBBTV8"
   },
   "source": []
  },
  {
   "cell_type": "code",
   "execution_count": 0,
   "metadata": {
    "colab": {},
    "colab_type": "code",
    "id": "BeJmEHfJBZe_"
   },
   "outputs": [],
   "source": [
    "def fc(enco):\n",
    "    flat = Flatten()(enco)\n",
    "    den = Dense(128, activation='relu')(flat)\n",
    "    out = Dense(num_classes, activation='softmax')(den)\n",
    "    return out"
   ]
  },
  {
   "cell_type": "code",
   "execution_count": 0,
   "metadata": {
    "colab": {},
    "colab_type": "code",
    "id": "noF4lljmBkEP"
   },
   "outputs": [],
   "source": [
    "encode = encoder(input_img)\n",
    "full_model = Model(input_img,fc(encode))"
   ]
  },
  {
   "cell_type": "code",
   "execution_count": 0,
   "metadata": {
    "colab": {},
    "colab_type": "code",
    "id": "YVxOA46bBlI3"
   },
   "outputs": [],
   "source": [
    "for l1,l2 in zip(full_model.layers[:19],autoencoder.layers[0:19]):\n",
    "    l1.set_weights(l2.get_weights())"
   ]
  },
  {
   "cell_type": "code",
   "execution_count": 0,
   "metadata": {
    "colab": {
     "base_uri": "https://localhost:8080/",
     "height": 480
    },
    "colab_type": "code",
    "id": "-mce1vzrBryz",
    "outputId": "c83184ab-c1fa-4175-8845-6954f0e87785"
   },
   "outputs": [
    {
     "data": {
      "text/plain": [
       "array([[[-0.05842907,  0.0312759 , -0.02753109, -0.13146903,\n",
       "         -0.0995819 ,  0.08261298,  0.04990751, -0.06205632,\n",
       "         -0.12001482,  0.06347098,  0.0540166 ,  0.04481644,\n",
       "         -0.02162714,  0.01450183,  0.11344119,  0.05333418,\n",
       "         -0.14473686,  0.07150907,  0.0666387 ,  0.03061775,\n",
       "          0.08434264, -0.10147778, -0.09128205, -0.02395592,\n",
       "         -0.05025531, -0.00351539,  0.09617388,  0.09346657,\n",
       "          0.12325411, -0.1188107 , -0.00771197,  0.08754531]],\n",
       "\n",
       "       [[-0.06554088, -0.08849167, -0.074368  , -0.01380128,\n",
       "          0.09073091, -0.06432782, -0.07318686, -0.05276552,\n",
       "         -0.0987584 ,  0.01061942, -0.09865513,  0.12804955,\n",
       "          0.04832403, -0.11826089,  0.03398125, -0.12654005,\n",
       "         -0.00148224,  0.06393577, -0.00739472, -0.11290254,\n",
       "         -0.03669919,  0.05212018,  0.05724327, -0.10297385,\n",
       "         -0.0920121 , -0.06095901, -0.07037091,  0.14303295,\n",
       "         -0.10282791,  0.02219072,  0.10518183, -0.03666731]],\n",
       "\n",
       "       [[ 0.08372814, -0.07068413,  0.06437141, -0.12818831,\n",
       "          0.08364232,  0.10459316, -0.1017345 , -0.13123472,\n",
       "         -0.01785139,  0.05827603,  0.04603451,  0.13200441,\n",
       "         -0.06386848, -0.04564403,  0.01991157,  0.12499104,\n",
       "          0.04531227, -0.12971237,  0.14980826,  0.00634365,\n",
       "          0.01447973, -0.12205862,  0.02266718,  0.07111525,\n",
       "          0.04548028, -0.03991374,  0.11127595,  0.0373106 ,\n",
       "         -0.01945151, -0.00235848,  0.00889064,  0.02346191]]],\n",
       "      dtype=float32)"
      ]
     },
     "execution_count": 30,
     "metadata": {
      "tags": []
     },
     "output_type": "execute_result"
    }
   ],
   "source": [
    "autoencoder.get_weights()[0][1]"
   ]
  },
  {
   "cell_type": "code",
   "execution_count": 0,
   "metadata": {
    "colab": {
     "base_uri": "https://localhost:8080/",
     "height": 480
    },
    "colab_type": "code",
    "id": "YRpicOlwB7fL",
    "outputId": "deb7fbbc-13e0-4f35-dabd-828df329ebfe"
   },
   "outputs": [
    {
     "data": {
      "text/plain": [
       "array([[[-0.05842907,  0.0312759 , -0.02753109, -0.13146903,\n",
       "         -0.0995819 ,  0.08261298,  0.04990751, -0.06205632,\n",
       "         -0.12001482,  0.06347098,  0.0540166 ,  0.04481644,\n",
       "         -0.02162714,  0.01450183,  0.11344119,  0.05333418,\n",
       "         -0.14473686,  0.07150907,  0.0666387 ,  0.03061775,\n",
       "          0.08434264, -0.10147778, -0.09128205, -0.02395592,\n",
       "         -0.05025531, -0.00351539,  0.09617388,  0.09346657,\n",
       "          0.12325411, -0.1188107 , -0.00771197,  0.08754531]],\n",
       "\n",
       "       [[-0.06554088, -0.08849167, -0.074368  , -0.01380128,\n",
       "          0.09073091, -0.06432782, -0.07318686, -0.05276552,\n",
       "         -0.0987584 ,  0.01061942, -0.09865513,  0.12804955,\n",
       "          0.04832403, -0.11826089,  0.03398125, -0.12654005,\n",
       "         -0.00148224,  0.06393577, -0.00739472, -0.11290254,\n",
       "         -0.03669919,  0.05212018,  0.05724327, -0.10297385,\n",
       "         -0.0920121 , -0.06095901, -0.07037091,  0.14303295,\n",
       "         -0.10282791,  0.02219072,  0.10518183, -0.03666731]],\n",
       "\n",
       "       [[ 0.08372814, -0.07068413,  0.06437141, -0.12818831,\n",
       "          0.08364232,  0.10459316, -0.1017345 , -0.13123472,\n",
       "         -0.01785139,  0.05827603,  0.04603451,  0.13200441,\n",
       "         -0.06386848, -0.04564403,  0.01991157,  0.12499104,\n",
       "          0.04531227, -0.12971237,  0.14980826,  0.00634365,\n",
       "          0.01447973, -0.12205862,  0.02266718,  0.07111525,\n",
       "          0.04548028, -0.03991374,  0.11127595,  0.0373106 ,\n",
       "         -0.01945151, -0.00235848,  0.00889064,  0.02346191]]],\n",
       "      dtype=float32)"
      ]
     },
     "execution_count": 31,
     "metadata": {
      "tags": []
     },
     "output_type": "execute_result"
    }
   ],
   "source": [
    "full_model.get_weights()[0][1]"
   ]
  },
  {
   "cell_type": "code",
   "execution_count": 0,
   "metadata": {
    "colab": {},
    "colab_type": "code",
    "id": "uAeBqUheB94w"
   },
   "outputs": [],
   "source": [
    "for layer in full_model.layers[0:19]:\n",
    "    layer.trainable = False"
   ]
  },
  {
   "cell_type": "code",
   "execution_count": 0,
   "metadata": {
    "colab": {},
    "colab_type": "code",
    "id": "OsuZnUJcC6Nm"
   },
   "outputs": [],
   "source": [
    "full_model.compile(loss=keras.losses.categorical_crossentropy, optimizer=keras.optimizers.Adam(),metrics=['accuracy'])"
   ]
  },
  {
   "cell_type": "code",
   "execution_count": 0,
   "metadata": {
    "colab": {
     "base_uri": "https://localhost:8080/",
     "height": 960
    },
    "colab_type": "code",
    "id": "eiPb3s1NC81S",
    "outputId": "8a181fbe-7928-4902-fb72-fdc01048abae"
   },
   "outputs": [
    {
     "name": "stdout",
     "output_type": "stream",
     "text": [
      "_________________________________________________________________\n",
      "Layer (type)                 Output Shape              Param #   \n",
      "=================================================================\n",
      "input_1 (InputLayer)         (None, 128, 128, 1)       0         \n",
      "_________________________________________________________________\n",
      "conv2d_24 (Conv2D)           (None, 128, 128, 32)      320       \n",
      "_________________________________________________________________\n",
      "batch_normalization_23 (Batc (None, 128, 128, 32)      128       \n",
      "_________________________________________________________________\n",
      "conv2d_25 (Conv2D)           (None, 128, 128, 32)      9248      \n",
      "_________________________________________________________________\n",
      "batch_normalization_24 (Batc (None, 128, 128, 32)      128       \n",
      "_________________________________________________________________\n",
      "max_pooling2d_5 (MaxPooling2 (None, 64, 64, 32)        0         \n",
      "_________________________________________________________________\n",
      "conv2d_26 (Conv2D)           (None, 64, 64, 64)        18496     \n",
      "_________________________________________________________________\n",
      "batch_normalization_25 (Batc (None, 64, 64, 64)        256       \n",
      "_________________________________________________________________\n",
      "conv2d_27 (Conv2D)           (None, 64, 64, 64)        36928     \n",
      "_________________________________________________________________\n",
      "batch_normalization_26 (Batc (None, 64, 64, 64)        256       \n",
      "_________________________________________________________________\n",
      "max_pooling2d_6 (MaxPooling2 (None, 32, 32, 64)        0         \n",
      "_________________________________________________________________\n",
      "conv2d_28 (Conv2D)           (None, 32, 32, 128)       73856     \n",
      "_________________________________________________________________\n",
      "batch_normalization_27 (Batc (None, 32, 32, 128)       512       \n",
      "_________________________________________________________________\n",
      "conv2d_29 (Conv2D)           (None, 32, 32, 128)       147584    \n",
      "_________________________________________________________________\n",
      "batch_normalization_28 (Batc (None, 32, 32, 128)       512       \n",
      "_________________________________________________________________\n",
      "conv2d_30 (Conv2D)           (None, 32, 32, 256)       295168    \n",
      "_________________________________________________________________\n",
      "batch_normalization_29 (Batc (None, 32, 32, 256)       1024      \n",
      "_________________________________________________________________\n",
      "conv2d_31 (Conv2D)           (None, 32, 32, 256)       590080    \n",
      "_________________________________________________________________\n",
      "batch_normalization_30 (Batc (None, 32, 32, 256)       1024      \n",
      "_________________________________________________________________\n",
      "flatten_2 (Flatten)          (None, 262144)            0         \n",
      "_________________________________________________________________\n",
      "dense_3 (Dense)              (None, 128)               33554560  \n",
      "_________________________________________________________________\n",
      "dense_4 (Dense)              (None, 64)                8256      \n",
      "_________________________________________________________________\n",
      "dense_5 (Dense)              (None, 16)                1040      \n",
      "_________________________________________________________________\n",
      "dense_6 (Dense)              (None, 3)                 51        \n",
      "=================================================================\n",
      "Total params: 34,739,427\n",
      "Trainable params: 33,563,907\n",
      "Non-trainable params: 1,175,520\n",
      "_________________________________________________________________\n"
     ]
    }
   ],
   "source": [
    "full_model.summary()\n"
   ]
  },
  {
   "cell_type": "code",
   "execution_count": 0,
   "metadata": {
    "colab": {
     "base_uri": "https://localhost:8080/",
     "height": 34
    },
    "colab_type": "code",
    "id": "FsrylGXyDq1-",
    "outputId": "50023462-285b-42b4-f219-f98164fc8caf"
   },
   "outputs": [
    {
     "name": "stdout",
     "output_type": "stream",
     "text": [
      "Found 2764 images belonging to 3 classes.\n"
     ]
    }
   ],
   "source": [
    "def AHE(img):\n",
    "    img_adapteq = exposure.equalize_adapthist(img, clip_limit=0.03)\n",
    "    return img_adapteq\n",
    "train_datagen = ImageDataGenerator(\n",
    "        rotation_range=40,\n",
    "        width_shift_range=0.2,\n",
    "        height_shift_range=0.2,\n",
    "        rescale=1./255,\n",
    "        shear_range=0.2,\n",
    "        zoom_range=0.2,\n",
    "        horizontal_flip=True,\n",
    "        fill_mode='nearest',preprocessing_function=AHE)\n",
    "\n",
    "train_generator=train_datagen.flow_from_directory('gdrive/My Drive/MRIBrain/train',\n",
    "                                                 target_size=(iml,imh),\n",
    "                                                 color_mode='grayscale',\n",
    "                                                 batch_size=batch,\n",
    "                                                 class_mode='categorical',\n",
    "                                                 shuffle=True)"
   ]
  },
  {
   "cell_type": "code",
   "execution_count": 0,
   "metadata": {
    "colab": {
     "base_uri": "https://localhost:8080/",
     "height": 34
    },
    "colab_type": "code",
    "id": "RMOWU8WiD6X9",
    "outputId": "45163b3e-2df7-4a7b-93ac-d5673b547640"
   },
   "outputs": [
    {
     "name": "stdout",
     "output_type": "stream",
     "text": [
      "Found 300 images belonging to 3 classes.\n"
     ]
    }
   ],
   "source": [
    "val_datagen = ImageDataGenerator(rescale=1. /255,preprocessing_function=AHE)\n",
    "val_generator=train_datagen.flow_from_directory('gdrive/My Drive/MRIBrain/val',\n",
    "                                                 target_size=(iml,imh),\n",
    "                                                 color_mode='grayscale',\n",
    "                                                 batch_size=batch,\n",
    "                                                 class_mode='categorical',\n",
    "                                                 shuffle=False)"
   ]
  },
  {
   "cell_type": "code",
   "execution_count": 0,
   "metadata": {
    "colab": {},
    "colab_type": "code",
    "id": "TWu8OvcAE3nJ"
   },
   "outputs": [],
   "source": [
    "lr_reducer_FULL = ReduceLROnPlateau(monitor='val_loss', factor=0.9, patience=8)\n",
    "early_stopper_FULL = EarlyStopping(monitor='val_loss', min_delta=0, patience=8, mode='auto')\n",
    "checkpointer_FULL = ModelCheckpoint('gdrive/My Drive/101/FULL{epoch:02d}-{val_loss:.4f}.hdf5', mode='min', monitor='val_loss', verbose=1, save_best_only=True)"
   ]
  },
  {
   "cell_type": "code",
   "execution_count": 0,
   "metadata": {
    "colab": {
     "base_uri": "https://localhost:8080/",
     "height": 1734
    },
    "colab_type": "code",
    "id": "J-t7TR8WDA0m",
    "outputId": "57a3d7c0-e21c-4035-cc2c-15375b69c768"
   },
   "outputs": [
    {
     "name": "stderr",
     "output_type": "stream",
     "text": [
      "W0614 13:05:52.180171 139755431475072 deprecation.py:323] From /usr/local/lib/python3.6/dist-packages/tensorflow/python/ops/math_grad.py:1250: add_dispatch_support.<locals>.wrapper (from tensorflow.python.ops.array_ops) is deprecated and will be removed in a future version.\n",
      "Instructions for updating:\n",
      "Use tf.where in 2.0, which has the same broadcast rule as np.where\n"
     ]
    },
    {
     "name": "stdout",
     "output_type": "stream",
     "text": [
      "Epoch 1/2000\n",
      "21/21 [==============================] - 697s 33s/step - loss: 7.0680 - acc: 0.4942 - val_loss: 5.6637 - val_acc: 0.6221\n",
      "\n",
      "Epoch 00001: val_loss improved from inf to 5.66374, saving model to gdrive/My Drive/101/FULL01-5.6637.hdf5\n",
      "Epoch 2/2000\n",
      "21/21 [==============================] - 237s 11s/step - loss: 6.3502 - acc: 0.5781 - val_loss: 10.2006 - val_acc: 0.3314\n",
      "\n",
      "Epoch 00002: val_loss did not improve from 5.66374\n",
      "Epoch 3/2000\n",
      "21/21 [==============================] - 242s 12s/step - loss: 5.9998 - acc: 0.5735 - val_loss: 8.4713 - val_acc: 0.4141\n",
      "\n",
      "Epoch 00003: val_loss did not improve from 5.66374\n",
      "Epoch 4/2000\n",
      "21/21 [==============================] - 236s 11s/step - loss: 5.1553 - acc: 0.5795 - val_loss: 4.4892 - val_acc: 0.5291\n",
      "\n",
      "Epoch 00004: val_loss improved from 5.66374 to 4.48918, saving model to gdrive/My Drive/101/FULL04-4.4892.hdf5\n",
      "Epoch 5/2000\n",
      "21/21 [==============================] - 237s 11s/step - loss: 4.1226 - acc: 0.5661 - val_loss: 7.2604 - val_acc: 0.3663\n",
      "\n",
      "Epoch 00005: val_loss did not improve from 4.48918\n",
      "Epoch 6/2000\n",
      "21/21 [==============================] - 246s 12s/step - loss: 3.6532 - acc: 0.5789 - val_loss: 7.6411 - val_acc: 0.3594\n",
      "\n",
      "Epoch 00006: val_loss did not improve from 4.48918\n",
      "Epoch 7/2000\n",
      "21/21 [==============================] - 235s 11s/step - loss: 3.6658 - acc: 0.5662 - val_loss: 4.2313 - val_acc: 0.5756\n",
      "\n",
      "Epoch 00007: val_loss improved from 4.48918 to 4.23134, saving model to gdrive/My Drive/101/FULL07-4.2313.hdf5\n",
      "Epoch 8/2000\n",
      "21/21 [==============================] - 236s 11s/step - loss: 3.7619 - acc: 0.5696 - val_loss: 7.6906 - val_acc: 0.1919\n",
      "\n",
      "Epoch 00008: val_loss did not improve from 4.23134\n",
      "Epoch 9/2000\n",
      "21/21 [==============================] - 241s 11s/step - loss: 3.5122 - acc: 0.5992 - val_loss: 6.3114 - val_acc: 0.4453\n",
      "\n",
      "Epoch 00009: val_loss did not improve from 4.23134\n",
      "Epoch 10/2000\n",
      "21/21 [==============================] - 234s 11s/step - loss: 3.7147 - acc: 0.5889 - val_loss: 5.3079 - val_acc: 0.4767\n",
      "\n",
      "Epoch 00010: val_loss did not improve from 4.23134\n",
      "Epoch 11/2000\n",
      "21/21 [==============================] - 235s 11s/step - loss: 3.7585 - acc: 0.5846 - val_loss: 7.2587 - val_acc: 0.2907\n",
      "\n",
      "Epoch 00011: val_loss did not improve from 4.23134\n",
      "Epoch 12/2000\n",
      "21/21 [==============================] - 241s 11s/step - loss: 3.5227 - acc: 0.5989 - val_loss: 7.4123 - val_acc: 0.3750\n",
      "\n",
      "Epoch 00012: val_loss did not improve from 4.23134\n",
      "Epoch 13/2000\n",
      "21/21 [==============================] - 234s 11s/step - loss: 3.6206 - acc: 0.5850 - val_loss: 3.6102 - val_acc: 0.6105\n",
      "\n",
      "Epoch 00013: val_loss improved from 4.23134 to 3.61020, saving model to gdrive/My Drive/101/FULL13-3.6102.hdf5\n",
      "Epoch 14/2000\n",
      "21/21 [==============================] - 236s 11s/step - loss: 3.5191 - acc: 0.5998 - val_loss: 6.1636 - val_acc: 0.4302\n",
      "\n",
      "Epoch 00014: val_loss did not improve from 3.61020\n",
      "Epoch 15/2000\n",
      "21/21 [==============================] - 242s 12s/step - loss: 2.4804 - acc: 0.5022 - val_loss: 1.7439 - val_acc: 0.2812\n",
      "\n",
      "Epoch 00015: val_loss improved from 3.61020 to 1.74388, saving model to gdrive/My Drive/101/FULL15-1.7439.hdf5\n",
      "Epoch 16/2000\n",
      "21/21 [==============================] - 236s 11s/step - loss: 1.3351 - acc: 0.3359 - val_loss: 1.0890 - val_acc: 0.2558\n",
      "\n",
      "Epoch 00016: val_loss improved from 1.74388 to 1.08899, saving model to gdrive/My Drive/101/FULL16-1.0890.hdf5\n",
      "Epoch 17/2000\n",
      "21/21 [==============================] - 238s 11s/step - loss: 1.1538 - acc: 0.4296 - val_loss: 1.1145 - val_acc: 0.0058\n",
      "\n",
      "Epoch 00017: val_loss did not improve from 1.08899\n",
      "Epoch 18/2000\n",
      "21/21 [==============================] - 241s 11s/step - loss: 1.0890 - acc: 0.4899 - val_loss: 1.1645 - val_acc: 0.3867\n",
      "\n",
      "Epoch 00018: val_loss did not improve from 1.08899\n",
      "Epoch 19/2000\n",
      "21/21 [==============================] - 237s 11s/step - loss: 1.0894 - acc: 0.4761 - val_loss: 1.2251 - val_acc: 0.5698\n",
      "\n",
      "Epoch 00019: val_loss did not improve from 1.08899\n",
      "Epoch 20/2000\n",
      "21/21 [==============================] - 237s 11s/step - loss: 1.0656 - acc: 0.4816 - val_loss: 1.1733 - val_acc: 0.0000e+00\n",
      "\n",
      "Epoch 00020: val_loss did not improve from 1.08899\n",
      "Epoch 21/2000\n",
      "21/21 [==============================] - 243s 12s/step - loss: 1.0701 - acc: 0.4844 - val_loss: 1.1099 - val_acc: 0.3906\n",
      "\n",
      "Epoch 00021: val_loss did not improve from 1.08899\n",
      "Epoch 22/2000\n",
      "21/21 [==============================] - 235s 11s/step - loss: 1.1080 - acc: 0.4803 - val_loss: 1.1144 - val_acc: 0.5756\n",
      "\n",
      "Epoch 00022: val_loss did not improve from 1.08899\n",
      "Epoch 23/2000\n",
      "21/21 [==============================] - 235s 11s/step - loss: 1.1355 - acc: 0.4804 - val_loss: 1.2131 - val_acc: 0.0000e+00\n",
      "\n",
      "Epoch 00023: val_loss did not improve from 1.08899\n",
      "Epoch 24/2000\n",
      "21/21 [==============================] - 242s 12s/step - loss: 1.0994 - acc: 0.4836 - val_loss: 1.1155 - val_acc: 0.3906\n",
      "\n",
      "Epoch 00024: val_loss did not improve from 1.08899\n"
     ]
    }
   ],
   "source": [
    "step_size_train=train_generator.n//train_generator.batch_size\n",
    "step_size_val=val_generator.n//val_generator.batch_size\n",
    "full_model_history = []\n",
    "full_model_history.append(full_model.fit_generator(generator=train_generator,\n",
    "                                                   validation_data=val_generator,\n",
    "                                                   steps_per_epoch=step_size_train,\n",
    "                                                   validation_steps = step_size_val,\n",
    "                                                   epochs=epochs,shuffle = True,\n",
    "                                                   callbacks=[lr_reducer_FULL, checkpointer_FULL, early_stopper_FULL],initial_epoch =0))"
   ]
  },
  {
   "cell_type": "code",
   "execution_count": 0,
   "metadata": {
    "colab": {
     "base_uri": "https://localhost:8080/",
     "height": 281
    },
    "colab_type": "code",
    "id": "0xueb2CBDYKD",
    "outputId": "b0c72440-d277-49a4-dada-4b8950ae2c66"
   },
   "outputs": [
    {
     "data": {
      "image/png": "[encoded data removed]",
      "text/plain": [
       "<Figure size 432x288 with 1 Axes>"
      ]
     },
     "metadata": {
      "tags": []
     },
     "output_type": "display_data"
    }
   ],
   "source": [
    "import matplotlib.pyplot as plt\n",
    "plt.title('Accuracies vs Epochs')\n",
    "plt.plot(full_model_history[0].history['acc'], label='Training_Accuracy')\n",
    "plt.plot(full_model_history[0].history['val_acc'], label='validation Accuacy')\n",
    "plt.plot(full_model_history[0].history['loss'], label='Training_loss')\n",
    "plt.plot(full_model_history[0].history['val_loss'], label='Val_loss')\n",
    "plt.legend()\n",
    "plt.show()"
   ]
  },
  {
   "cell_type": "code",
   "execution_count": 0,
   "metadata": {
    "colab": {
     "base_uri": "https://localhost:8080/",
     "height": 269
    },
    "colab_type": "code",
    "id": "TRVsowN7G-io",
    "outputId": "8953990b-9fe5-443a-fb9a-c46b4913531b"
   },
   "outputs": [
    {
     "data": {
      "image/png": "[encoded data removed]",
      "text/plain": [
       "<Figure size 432x288 with 1 Axes>"
      ]
     },
     "metadata": {
      "tags": []
     },
     "output_type": "display_data"
    }
   ],
   "source": [
    "plt.plot(full_model_history[0].history['acc'], label='Training_Accuracy')\n",
    "plt.plot(full_model_history[0].history['val_acc'], label='validation Accuacy')\n",
    "plt.legend()\n",
    "plt.show()"
   ]
  },
  {
   "cell_type": "code",
   "execution_count": 0,
   "metadata": {
    "colab": {},
    "colab_type": "code",
    "id": "inbQ6pWRhMUI"
   },
   "outputs": [],
   "source": []
  }
 ],
 "metadata": {
  "accelerator": "TPU",
  "colab": {
   "collapsed_sections": [],
   "include_colab_link": true,
   "name": "MRI-AutoEncoder",
   "provenance": [],
   "version": "0.3.2"
  },
  "kernelspec": {
   "display_name": "Python 3 (ipykernel)",
   "language": "python",
   "name": "python3"
  },
  "language_info": {
   "codemirror_mode": {
    "name": "ipython",
    "version": 3
   },
   "file_extension": ".py",
   "mimetype": "text/x-python",
   "name": "python",
   "nbconvert_exporter": "python",
   "pygments_lexer": "ipython3",
   "version": "3.9.16"
  }
 },
 "nbformat": 4,
 "nbformat_minor": 1
}
